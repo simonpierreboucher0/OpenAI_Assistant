{
 "cells": [
  {
   "cell_type": "code",
   "execution_count": 10,
   "id": "32669943-6b69-4263-8590-9cf3242adc6a",
   "metadata": {},
   "outputs": [],
   "source": [
    "from openai_assistant import OpenAI_LLM, OpenAI_Chatbot, ask\n",
    "\n",
    "\n",
    "llm = OpenAI_LLM(model=\"gpt-3.5-turbo\")\n",
    "assistant = OpenAI_Chatbot(llm=llm,display_mode=\"response_only\")"
   ]
  },
  {
   "cell_type": "code",
   "execution_count": 11,
   "id": "88480b43-e01c-4c5a-af6f-bca3a903ac1f",
   "metadata": {},
   "outputs": [
    {
     "name": "stdout",
     "output_type": "stream",
     "text": [
      "Marie Curie était une physicienne et chimiste d'origine polonaise, naturalisée française. Elle est surtout connue pour ses travaux pionniers sur la radioactivité, qui lui ont valu deux prix Nobel, l'un de physique en 1903 (partagé avec son mari Pierre Curie et Henri Becquerel) et l'autre de chimie en 1911. Elle est la première femme à avoir reçu un prix Nobel et la seule à en avoir reçu dans deux domaines scientifiques différents. Ses découvertes ont eu un impact majeur sur la physique et la chimie, et elle est considérée comme l'une des plus grandes scientifiques de l'histoire.\n"
     ]
    }
   ],
   "source": [
    "ask(assistant, \"Qui était Marie Curie?\")"
   ]
  },
  {
   "cell_type": "code",
   "execution_count": 12,
   "id": "e4948567-8293-45d5-aeb4-2f344fb7e27a",
   "metadata": {},
   "outputs": [
    {
     "name": "stdout",
     "output_type": "stream",
     "text": [
      "Marie Curie est surtout connue pour ses découvertes majeures dans le domaine de la radioactivité. Ses principales contributions comprennent :\n",
      "\n",
      "1. La découverte des éléments radioactifs polonium et radium, qu'elle a isolés à partir de minerais d'uranium.\n",
      "2. Le développement de techniques pionnières pour mesurer la radioactivité, ce qui a permis de quantifier ce phénomène pour la première fois.\n",
      "3. La théorisation du concept de radioactivité, qui a révolutionné la compréhension de la structure de la matière et ouvert la voie à de nombreuses avancées ultérieures en physique et en chimie.\n",
      "4. Ses travaux sur l'utilisation de la radioactivité en médecine, notamment dans le traitement du cancer, ont ouvert de nouvelles perspectives dans le domaine de la médecine nucléaire.\n",
      "\n",
      "Ces découvertes ont non seulement valu à Marie Curie une renommée internationale, mais ont également jeté les bases de la recherche future dans le domaine de la physique nucléaire et de la chimie.\n"
     ]
    }
   ],
   "source": [
    "ask(assistant, \"Quelles ont été ses plus grandes découvertes?\")"
   ]
  },
  {
   "cell_type": "code",
   "execution_count": 13,
   "id": "ad950568-31f4-4106-91bc-f49409f7ab41",
   "metadata": {},
   "outputs": [
    {
     "name": "stdout",
     "output_type": "stream",
     "text": [
      "Marie Curie a eu un impact majeur sur la science moderne à plusieurs niveaux :\n",
      "\n",
      "1. Contribution à la physique et à la chimie : Ses découvertes sur la radioactivité ont révolutionné la compréhension de la structure de la matière et ont ouvert de nouvelles perspectives dans les domaines de la physique nucléaire et de la chimie. Ses travaux ont jeté les bases de la recherche sur les éléments radioactifs et ont contribué à de nombreuses avancées ultérieures dans ces domaines.\n",
      "\n",
      "2. Pionnière pour les femmes en science : En tant que première femme à recevoir un prix Nobel et la seule à en avoir reçu dans deux domaines scientifiques différents, Marie Curie a ouvert la voie à de nombreuses femmes dans le domaine des sciences. Elle a inspiré des générations de scientifiques et a contribué à briser les barrières de genre dans le domaine de la recherche scientifique.\n",
      "\n",
      "3. Influence sur la médecine : Les travaux de Marie Curie sur l'utilisation de la radioactivité en médecine ont ouvert de nouvelles perspectives dans le domaine de la médecine nucléaire. Ses recherches ont contribué au développement de techniques de diagnostic et de traitement du cancer, ainsi qu'à d'autres applications médicales de la radioactivité.\n",
      "\n",
      "En résumé, Marie Curie a laissé un héritage scientifique durable qui continue d'influencer la recherche et l'innovation dans de nombreux domaines de la science moderne.\n"
     ]
    }
   ],
   "source": [
    "ask(assistant, \"Quel impact a-t-elle eu sur la science moderne?\")"
   ]
  },
  {
   "cell_type": "code",
   "execution_count": 14,
   "id": "8fa4e419-6889-4bca-9e81-976447cd2b3c",
   "metadata": {},
   "outputs": [],
   "source": [
    "llm = OpenAI_LLM(temperature=0.3, max_tokens=500)\n",
    "tutor = OpenAI_Chatbot(\n",
    "    llm=llm,\n",
    "    system_prompt=\"Tu es un tuteur de mathématiques. Explique les concepts étape par étape.\",\n",
    "    display_mode=\"response_only\"\n",
    ")\n"
   ]
  },
  {
   "cell_type": "code",
   "execution_count": 15,
   "id": "7c4a9d2e-953d-43cb-ba73-66f5ca245bde",
   "metadata": {},
   "outputs": [
    {
     "name": "stdout",
     "output_type": "stream",
     "text": [
      "Une fonction dérivée est une mesure du taux de variation d'une fonction par rapport à sa variable indépendante. En d'autres termes, elle nous indique comment la fonction change à mesure que sa variable indépendante change.\n",
      "\n",
      "Pour calculer la dérivée d'une fonction, on utilise la règle de dérivation qui dépend du type de fonction. Par exemple, pour une fonction polynomiale, on utilise les règles de dérivation de puissances. Pour une fonction trigonométrique, on utilise les règles de dérivation des fonctions trigonométriques, et ainsi de suite.\n",
      "\n",
      "La dérivée d'une fonction est souvent notée f'(x) ou dy/dx, où f est la fonction et x est la variable indépendante. La dérivée nous donne une nouvelle fonction qui représente le taux de variation de la fonction d'origine.\n",
      "\n",
      "En résumé, la fonction dérivée nous permet de comprendre comment une fonction change localement, c'est-à-dire à un point spécifique de son domaine, et elle est essentielle en analyse mathématique pour étudier le comportement des fonctions et résoudre des problèmes liés au calcul des pentes, des vitesses, des accélérations, etc.\n"
     ]
    }
   ],
   "source": [
    "ask(tutor, \"Explique-moi ce qu'est une fonction dérivée\")"
   ]
  },
  {
   "cell_type": "code",
   "execution_count": 16,
   "id": "f9ef1df3-5ab8-4b25-9521-98659fec4f8b",
   "metadata": {},
   "outputs": [
    {
     "name": "stdout",
     "output_type": "stream",
     "text": [
      "Bien sûr ! Prenons par exemple la fonction f(x) = x^2. Pour calculer la dérivée de cette fonction, on utilise la règle de dérivation des puissances.\n",
      "\n",
      "La dérivée de f(x) = x^2 est donnée par f'(x) = 2x. Cela signifie que pour chaque valeur de x, la pente de la fonction f(x) à ce point est égale à 2 fois la valeur de x.\n",
      "\n",
      "Par exemple, si on veut calculer la pente de la fonction f(x) = x^2 au point x = 3, on remplace x par 3 dans la fonction dérivée f'(x) = 2x. On obtient donc f'(3) = 2*3 = 6. Cela signifie que la pente de la fonction f(x) = x^2 au point x = 3 est égale à 6.\n",
      "\n",
      "En utilisant la dérivée, on peut également déterminer les points où la fonction atteint un maximum ou un minimum, les points d'inflexion, les tangentes à la courbe, etc. La dérivée est donc un outil puissant pour analyser le comportement des fonctions et résoudre divers problèmes mathématiques.\n"
     ]
    }
   ],
   "source": [
    "ask(tutor, \"Peux-tu me donner un exemple simple?\")"
   ]
  },
  {
   "cell_type": "code",
   "execution_count": 17,
   "id": "c471dc30-023d-49b7-acb5-39ae875f99fc",
   "metadata": {},
   "outputs": [
    {
     "name": "stdout",
     "output_type": "stream",
     "text": [
      "Pour calculer la dérivée de la fonction trigonométrique sin(x), on utilise la règle de dérivation des fonctions trigonométriques. La dérivée de sin(x) est cos(x).\n",
      "\n",
      "En d'autres termes, si f(x) = sin(x), alors f'(x) = cos(x).\n",
      "\n",
      "Cela signifie que la pente de la fonction sin(x) à un point donné x est égale à la valeur de cos(x) à ce même point.\n",
      "\n",
      "Par exemple, si on veut calculer la pente de la fonction sin(x) au point x = π/2 (90 degrés), on remplace x par π/2 dans la fonction dérivée f'(x) = cos(x). On obtient donc f'(π/2) = cos(π/2) = 0. Cela signifie que la pente de la fonction sin(x) au point x = π/2 est égale à 0.\n",
      "\n",
      "La dérivée de sin(x) étant cos(x), on peut utiliser cette information pour étudier le comportement de la fonction sin(x) et résoudre divers problèmes mathématiques impliquant cette fonction trigonométrique.\n"
     ]
    }
   ],
   "source": [
    "ask(tutor, \"Comment calculer la dérivée de sin(x)?\")"
   ]
  },
  {
   "cell_type": "code",
   "execution_count": 18,
   "id": "12428f29-af13-45f9-9dda-94ef5c351105",
   "metadata": {},
   "outputs": [
    {
     "name": "stdout",
     "output_type": "stream",
     "text": [
      "Pour trouver la tangente à une courbe à un point donné, on peut utiliser la dérivée de la fonction pour calculer la pente de la tangente à ce point. Voici les étapes à suivre :\n",
      "\n",
      "1. Calculer la dérivée de la fonction donnée pour obtenir la fonction dérivée.\n",
      "2. Trouver la valeur de la dérivée à l'endroit où vous souhaitez trouver la tangente (c'est-à-dire à l'abscisse du point d'intérêt).\n",
      "3. Cette valeur correspond à la pente de la tangente à la courbe à ce point.\n",
      "4. Utiliser cette pente et le point d'intérêt pour écrire l'équation de la tangente en utilisant la forme point-pente ou la forme point-pente-interception.\n",
      "\n",
      "Par exemple, si vous voulez trouver l'équation de la tangente à la courbe de la fonction f(x) = x^2 au point x = 3, vous pouvez suivre ces étapes :\n",
      "\n",
      "1. Calculer la dérivée de f(x) = x^2, qui est f'(x) = 2x.\n",
      "2. Trouver la valeur de la dérivée à x = 3 : f'(3) = 2*3 = 6.\n",
      "3. La pente de la tangente à la courbe de f(x) = x^2 au point x = 3 est égale à 6.\n",
      "4. Utiliser la pente (6) et le point (3, f(3) = 3^2 = 9) pour écrire l'équation de la tangente. Par exemple, en utilisant la forme point-pente, l'équation de la tangente est y = 6x - 9.\n",
      "\n",
      "En suivant ces étapes, vous pouvez trouver l'équation de la tangente à une courbe à un point donné en utilisant la dérivée de la fonction.\n"
     ]
    }
   ],
   "source": [
    "ask(tutor, \"Et maintenant, comment puis-je appliquer ça pour trouver la tangente à une courbe?\")"
   ]
  },
  {
   "cell_type": "code",
   "execution_count": 19,
   "id": "c65aba54-a6ca-44ef-8912-7ee1d94be962",
   "metadata": {},
   "outputs": [],
   "source": [
    "tech_llm = OpenAI_LLM()\n",
    "tech_support = OpenAI_Chatbot(\n",
    "    llm=tech_llm,\n",
    "    system_prompt=\"Tu es un expert en support technique spécialisé dans les problèmes Python. Propose des solutions concrètes et demande des précisions si nécessaire.\"\n",
    ")\n"
   ]
  },
  {
   "cell_type": "code",
   "execution_count": 20,
   "id": "8f7af2de-7721-4f0c-8f47-88cca73f3e98",
   "metadata": {},
   "outputs": [
    {
     "name": "stdout",
     "output_type": "stream",
     "text": [
      "\n",
      "chatbot_7 - User:  J'ai un problème avec mon code Python. Quand j'essaie d'importer pandas, j'obtiens une erreur ModuleNotFoundError\n",
      "\n",
      "Il semble que le module pandas n'est pas installé sur votre système. Pour résoudre ce problème, vous pouvez installer pandas en utilisant pip, qui est le gestionnaire de paquets Python. Voici comment procéder :\n",
      "\n",
      "1. Ouvrez votre terminal ou votre invite de commandes.\n",
      "2. Exécutez la commande suivante pour installer pandas :\n",
      "   ```\n",
      "   pip install pandas\n",
      "   ```\n",
      "\n",
      "Une fois l'installation terminée, vous devriez pouvoir importer pandas dans votre code Python sans rencontrer d'erreur. Si vous rencontrez toujours des problèmes, n'hésitez pas à fournir plus de détails sur votre environnement de développement (système d'exploitation, version de Python, etc.)\n"
     ]
    }
   ],
   "source": [
    "ask(tech_support, \"J'ai un problème avec mon code Python. Quand j'essaie d'importer pandas, j'obtiens une erreur ModuleNotFoundError\")"
   ]
  },
  {
   "cell_type": "code",
   "execution_count": 21,
   "id": "92b6e99e-f0af-4808-9229-d3bb00455a9f",
   "metadata": {},
   "outputs": [
    {
     "name": "stdout",
     "output_type": "stream",
     "text": [
      "\n",
      "chatbot_7 - User:  Oui, j'utilise un environnement virtuel sous Windows 10\n",
      "\n",
      "Dans ce cas, il est possible que votre environnement virtuel ne soit pas activé lorsque vous essayez d'importer pandas. Voici comment activer un environnement virtuel sous Windows 10 :\n",
      "\n",
      "1. Ouvrez votre terminal (invite de commandes) en recherchant \"cmd\" dans la barre de recherche Windows.\n",
      "2. Naviguez jusqu'au répertoire où se trouve votre environnement virtuel en utilisant la commande `cd` (par exemple, `cd Chemin\\vers\\mon\\environnement\\virtuel`).\n",
      "3. Une fois dans le répertoire de votre environnement virtuel, activez-le en exécutant la commande suivante :\n",
      "   ```\n",
      "   Scripts\\activate\n",
      "   ```\n",
      "\n",
      "Après avoir activé votre environnement virtuel, vous devriez être en mesure d'installer et d'importer pandas sans rencontrer d'erreur. N'hésitez pas à me tenir au courant si vous avez besoin de plus d'aide.\n"
     ]
    }
   ],
   "source": [
    "ask(tech_support, \"Oui, j'utilise un environnement virtuel sous Windows 10\")"
   ]
  },
  {
   "cell_type": "code",
   "execution_count": 22,
   "id": "1f24a2c0-3394-487e-bfc6-0f63b159b92a",
   "metadata": {},
   "outputs": [
    {
     "name": "stdout",
     "output_type": "stream",
     "text": [
      "\n",
      "chatbot_7 - User:  J'ai essayé pip install pandas mais j'obtiens une erreur de connexion\n",
      "\n",
      "Si vous rencontrez une erreur de connexion lors de l'installation de pandas avec pip, cela peut être dû à des problèmes de connectivité réseau. Voici quelques solutions que vous pouvez essayer :\n",
      "\n",
      "1. Vérifiez votre connexion Internet : Assurez-vous que votre connexion Internet fonctionne correctement en essayant d'accéder à d'autres sites web.\n",
      "\n",
      "2. Utilisez l'option `--trusted-host` : Vous pouvez essayer d'ajouter l'option `--trusted-host` à votre commande d'installation pour spécifier un hôte de confiance. Par exemple :\n",
      "   ```\n",
      "   pip install pandas --trusted-host pypi.org --trusted-host pypi.python.org --trusted-host=files.pythonhosted.org\n",
      "   ```\n",
      "\n",
      "3. Utilisez un miroir de package : Vous pouvez également essayer d'utiliser un miroir de package pour télécharger les packages. Par exemple, vous pouvez utiliser le miroir de package de l'Université de Californie à Irvine en ajoutant l'option `-i` à votre commande d'installation :\n",
      "   ```\n",
      "   pip install pandas -i https://pypi.uci.edu/simple/\n",
      "   ```\n",
      "\n",
      "Si aucune de ces solutions ne fonctionne, il se peut que le problème soit lié à des restrictions de pare-feu ou de proxy. Dans ce cas, vous devrez peut-être contacter votre administrateur réseau pour obtenir de l'aide. N'hésitez pas à me tenir au courant si vous avez besoin de plus d'assistance.\n"
     ]
    }
   ],
   "source": [
    "ask(tech_support, \"J'ai essayé pip install pandas mais j'obtiens une erreur de connexion\")"
   ]
  }
 ],
 "metadata": {
  "kernelspec": {
   "display_name": "Python 3 (ipykernel)",
   "language": "python",
   "name": "python3"
  },
  "language_info": {
   "codemirror_mode": {
    "name": "ipython",
    "version": 3
   },
   "file_extension": ".py",
   "mimetype": "text/x-python",
   "name": "python",
   "nbconvert_exporter": "python",
   "pygments_lexer": "ipython3",
   "version": "3.13.2"
  }
 },
 "nbformat": 4,
 "nbformat_minor": 5
}
